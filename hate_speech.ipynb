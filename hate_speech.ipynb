{
 "cells": [
  {
   "cell_type": "markdown",
   "source": [
    "1. Data Process\n",
    "we split the raw dataset into training, development and test sets."
   ],
   "metadata": {
    "collapsed": false
   },
   "id": "dc2c012b67e854b3"
  },
  {
   "cell_type": "code",
   "execution_count": 1,
   "id": "initial_id",
   "metadata": {
    "collapsed": true,
    "ExecuteTime": {
     "end_time": "2024-11-24T20:53:59.237461Z",
     "start_time": "2024-11-24T20:53:58.554126Z"
    }
   },
   "outputs": [
    {
     "name": "stdout",
     "output_type": "stream",
     "text": [
      "Train set saved to train.csv\n",
      "Dev set saved to dev.csv\n",
      "Test set saved to test.csv\n"
     ]
    }
   ],
   "source": [
    "import pandas as pd\n",
    "\n",
    "# Load the dataset\n",
    "file_path = 'DynamicallyHateDataset.csv'  # Update with your file's path\n",
    "data = pd.read_csv(file_path)\n",
    "\n",
    "# Split data based on the 'split' column into train, dev, and test sets\n",
    "train_data = data[data['split'] == 'train']\n",
    "dev_data = data[data['split'] == 'dev']\n",
    "test_data = data[data['split'] == 'test']\n",
    "\n",
    "# Save each set into separate CSV files\n",
    "train_file_path = 'train.csv'\n",
    "dev_file_path = 'dev.csv'\n",
    "test_file_path = 'test.csv'\n",
    "\n",
    "train_data.to_csv(train_file_path, index=False)\n",
    "dev_data.to_csv(dev_file_path, index=False)\n",
    "test_data.to_csv(test_file_path, index=False)\n",
    "\n",
    "print(f\"Train set saved to {train_file_path}\")\n",
    "print(f\"Dev set saved to {dev_file_path}\")\n",
    "print(f\"Test set saved to {test_file_path}\")\n"
   ]
  },
  {
   "cell_type": "code",
   "outputs": [
    {
     "data": {
      "text/plain": "       Unnamed: 0    acl.id     X1  \\\n0               1      acl1      1   \n1               2     acl10      2   \n2               3    acl100      3   \n3               4   acl1000      4   \n14             15   acl1001     15   \n...           ...       ...    ...   \n41129      107100   acl8894  40028   \n41140      118100  acl11574   1752   \n41141      119100  acl13446   3832   \n41142        1205  acl13457   3844   \n41143      121100  acl32095  24553   \n\n                                                    text    label  \\\n0                                    dalits are lowlives     hate   \n1                 gay people are a burden to our society     hate   \n2                                  Arabs are not welcome     hate   \n3      I'm not saying we should actually eliminate he...     hate   \n14     It's such a rape culture with these immigrants...     hate   \n...                                                  ...      ...   \n41129                                Women are deceitful     hate   \n41140  Women don't want equality, they just want to b...     hate   \n41141                                         fuck covid  nothate   \n41142                           This computer is garbage  nothate   \n41143                 The only good Muslim is a dead one     hate   \n\n              type    target     level  split  round.base   annotator round  \\\n0         notgiven  notgiven  original  train           1  GNZuCtwed3     1   \n1         notgiven  notgiven  original  train           1  GNZuCtwed3     1   \n2         notgiven  notgiven  original  train           1  vDe7GN0NrL     1   \n3         notgiven  notgiven  original  train           1  oemYWm1Tjg     1   \n14        notgiven  notgiven  original  train           1  CAgNlUizNm     1   \n...            ...       ...       ...    ...         ...         ...   ...   \n41129     notgiven  notgiven  original  train           1  CAgNlUizNm     1   \n41140   derogation       wom  original  train           2  CAgNlUizNm    2a   \n41141         none      none  original  train           2  CAgNlUizNm    2a   \n41142         none      none  original  train           2  eLGzdD8Tvb    2a   \n41143  threatening       mus  original  train           4  IBsVsBliwX    4a   \n\n      acl.id.matched  \n0                NaN  \n1                NaN  \n2                NaN  \n3                NaN  \n14               NaN  \n...              ...  \n41129            NaN  \n41140       acl11575  \n41141       acl13447  \n41142       acl13458  \n41143       acl32096  \n\n[32924 rows x 13 columns]",
      "text/html": "<div>\n<style scoped>\n    .dataframe tbody tr th:only-of-type {\n        vertical-align: middle;\n    }\n\n    .dataframe tbody tr th {\n        vertical-align: top;\n    }\n\n    .dataframe thead th {\n        text-align: right;\n    }\n</style>\n<table border=\"1\" class=\"dataframe\">\n  <thead>\n    <tr style=\"text-align: right;\">\n      <th></th>\n      <th>Unnamed: 0</th>\n      <th>acl.id</th>\n      <th>X1</th>\n      <th>text</th>\n      <th>label</th>\n      <th>type</th>\n      <th>target</th>\n      <th>level</th>\n      <th>split</th>\n      <th>round.base</th>\n      <th>annotator</th>\n      <th>round</th>\n      <th>acl.id.matched</th>\n    </tr>\n  </thead>\n  <tbody>\n    <tr>\n      <th>0</th>\n      <td>1</td>\n      <td>acl1</td>\n      <td>1</td>\n      <td>dalits are lowlives</td>\n      <td>hate</td>\n      <td>notgiven</td>\n      <td>notgiven</td>\n      <td>original</td>\n      <td>train</td>\n      <td>1</td>\n      <td>GNZuCtwed3</td>\n      <td>1</td>\n      <td>NaN</td>\n    </tr>\n    <tr>\n      <th>1</th>\n      <td>2</td>\n      <td>acl10</td>\n      <td>2</td>\n      <td>gay people are a burden to our society</td>\n      <td>hate</td>\n      <td>notgiven</td>\n      <td>notgiven</td>\n      <td>original</td>\n      <td>train</td>\n      <td>1</td>\n      <td>GNZuCtwed3</td>\n      <td>1</td>\n      <td>NaN</td>\n    </tr>\n    <tr>\n      <th>2</th>\n      <td>3</td>\n      <td>acl100</td>\n      <td>3</td>\n      <td>Arabs are not welcome</td>\n      <td>hate</td>\n      <td>notgiven</td>\n      <td>notgiven</td>\n      <td>original</td>\n      <td>train</td>\n      <td>1</td>\n      <td>vDe7GN0NrL</td>\n      <td>1</td>\n      <td>NaN</td>\n    </tr>\n    <tr>\n      <th>3</th>\n      <td>4</td>\n      <td>acl1000</td>\n      <td>4</td>\n      <td>I'm not saying we should actually eliminate he...</td>\n      <td>hate</td>\n      <td>notgiven</td>\n      <td>notgiven</td>\n      <td>original</td>\n      <td>train</td>\n      <td>1</td>\n      <td>oemYWm1Tjg</td>\n      <td>1</td>\n      <td>NaN</td>\n    </tr>\n    <tr>\n      <th>14</th>\n      <td>15</td>\n      <td>acl1001</td>\n      <td>15</td>\n      <td>It's such a rape culture with these immigrants...</td>\n      <td>hate</td>\n      <td>notgiven</td>\n      <td>notgiven</td>\n      <td>original</td>\n      <td>train</td>\n      <td>1</td>\n      <td>CAgNlUizNm</td>\n      <td>1</td>\n      <td>NaN</td>\n    </tr>\n    <tr>\n      <th>...</th>\n      <td>...</td>\n      <td>...</td>\n      <td>...</td>\n      <td>...</td>\n      <td>...</td>\n      <td>...</td>\n      <td>...</td>\n      <td>...</td>\n      <td>...</td>\n      <td>...</td>\n      <td>...</td>\n      <td>...</td>\n      <td>...</td>\n    </tr>\n    <tr>\n      <th>41129</th>\n      <td>107100</td>\n      <td>acl8894</td>\n      <td>40028</td>\n      <td>Women are deceitful</td>\n      <td>hate</td>\n      <td>notgiven</td>\n      <td>notgiven</td>\n      <td>original</td>\n      <td>train</td>\n      <td>1</td>\n      <td>CAgNlUizNm</td>\n      <td>1</td>\n      <td>NaN</td>\n    </tr>\n    <tr>\n      <th>41140</th>\n      <td>118100</td>\n      <td>acl11574</td>\n      <td>1752</td>\n      <td>Women don't want equality, they just want to b...</td>\n      <td>hate</td>\n      <td>derogation</td>\n      <td>wom</td>\n      <td>original</td>\n      <td>train</td>\n      <td>2</td>\n      <td>CAgNlUizNm</td>\n      <td>2a</td>\n      <td>acl11575</td>\n    </tr>\n    <tr>\n      <th>41141</th>\n      <td>119100</td>\n      <td>acl13446</td>\n      <td>3832</td>\n      <td>fuck covid</td>\n      <td>nothate</td>\n      <td>none</td>\n      <td>none</td>\n      <td>original</td>\n      <td>train</td>\n      <td>2</td>\n      <td>CAgNlUizNm</td>\n      <td>2a</td>\n      <td>acl13447</td>\n    </tr>\n    <tr>\n      <th>41142</th>\n      <td>1205</td>\n      <td>acl13457</td>\n      <td>3844</td>\n      <td>This computer is garbage</td>\n      <td>nothate</td>\n      <td>none</td>\n      <td>none</td>\n      <td>original</td>\n      <td>train</td>\n      <td>2</td>\n      <td>eLGzdD8Tvb</td>\n      <td>2a</td>\n      <td>acl13458</td>\n    </tr>\n    <tr>\n      <th>41143</th>\n      <td>121100</td>\n      <td>acl32095</td>\n      <td>24553</td>\n      <td>The only good Muslim is a dead one</td>\n      <td>hate</td>\n      <td>threatening</td>\n      <td>mus</td>\n      <td>original</td>\n      <td>train</td>\n      <td>4</td>\n      <td>IBsVsBliwX</td>\n      <td>4a</td>\n      <td>acl32096</td>\n    </tr>\n  </tbody>\n</table>\n<p>32924 rows × 13 columns</p>\n</div>"
     },
     "execution_count": 2,
     "metadata": {},
     "output_type": "execute_result"
    }
   ],
   "source": [
    "train_data"
   ],
   "metadata": {
    "collapsed": false,
    "ExecuteTime": {
     "end_time": "2024-11-24T20:54:48.720766Z",
     "start_time": "2024-11-24T20:54:48.684617Z"
    }
   },
   "id": "4664995626ccf6f7",
   "execution_count": 2
  },
  {
   "cell_type": "code",
   "outputs": [
    {
     "data": {
      "text/plain": "       Unnamed: 0    acl.id    X1  \\\n49             51  acl10042    51   \n50             52  acl10043    52   \n51             53  acl10044    53   \n52             54  acl10045    54   \n53             55  acl10046    55   \n...           ...       ...   ...   \n41025        3125  acl10762   850   \n41026         430  acl10793   884   \n41027         533  acl11081  1205   \n41028        6991  acl11100  1227   \n41029         711  acl11119  1247   \n\n                                                    text    label      type  \\\n49     don't get me wrong I don't hate Indians, but I...     hate  notgiven   \n50     I can't tell the difference between a letterbo...     hate  notgiven   \n51                             brown people are the shit  nothate      none   \n52                                      The NHS is waste  nothate      none   \n53     I\u0019ll punch anyone that says Indians are filthy...  nothate      none   \n...                                                  ...      ...       ...   \n41025           Millenials were born in a comatose state     hate  notgiven   \n41026                              All Zionists are lazy     hate  notgiven   \n41027       White purity is under attack from dark skins     hate  notgiven   \n41028                           Blacks are such pondlife     hate  notgiven   \n41029  It is totally valid to say that black people a...     hate  notgiven   \n\n         target     level split  round.base   annotator round acl.id.matched  \n49     notgiven  original   dev           1  QiOKkCi7F8     1            NaN  \n50     notgiven  original   dev           1  TrRF46JWfP     1            NaN  \n51         none  original   dev           1  GNZuCtwed3     1            NaN  \n52         none  original   dev           1  TrRF46JWfP     1            NaN  \n53         none  original   dev           1  oemYWm1Tjg     1            NaN  \n...         ...       ...   ...         ...         ...   ...            ...  \n41025  notgiven  original   dev           1  oemYWm1Tjg     1            NaN  \n41026  notgiven  original   dev           1  TrRF46JWfP     1            NaN  \n41027  notgiven  original   dev           1  CAgNlUizNm     1            NaN  \n41028  notgiven  original   dev           1  GNZuCtwed3     1            NaN  \n41029  notgiven  original   dev           1  CAgNlUizNm     1            NaN  \n\n[4100 rows x 13 columns]",
      "text/html": "<div>\n<style scoped>\n    .dataframe tbody tr th:only-of-type {\n        vertical-align: middle;\n    }\n\n    .dataframe tbody tr th {\n        vertical-align: top;\n    }\n\n    .dataframe thead th {\n        text-align: right;\n    }\n</style>\n<table border=\"1\" class=\"dataframe\">\n  <thead>\n    <tr style=\"text-align: right;\">\n      <th></th>\n      <th>Unnamed: 0</th>\n      <th>acl.id</th>\n      <th>X1</th>\n      <th>text</th>\n      <th>label</th>\n      <th>type</th>\n      <th>target</th>\n      <th>level</th>\n      <th>split</th>\n      <th>round.base</th>\n      <th>annotator</th>\n      <th>round</th>\n      <th>acl.id.matched</th>\n    </tr>\n  </thead>\n  <tbody>\n    <tr>\n      <th>49</th>\n      <td>51</td>\n      <td>acl10042</td>\n      <td>51</td>\n      <td>don't get me wrong I don't hate Indians, but I...</td>\n      <td>hate</td>\n      <td>notgiven</td>\n      <td>notgiven</td>\n      <td>original</td>\n      <td>dev</td>\n      <td>1</td>\n      <td>QiOKkCi7F8</td>\n      <td>1</td>\n      <td>NaN</td>\n    </tr>\n    <tr>\n      <th>50</th>\n      <td>52</td>\n      <td>acl10043</td>\n      <td>52</td>\n      <td>I can't tell the difference between a letterbo...</td>\n      <td>hate</td>\n      <td>notgiven</td>\n      <td>notgiven</td>\n      <td>original</td>\n      <td>dev</td>\n      <td>1</td>\n      <td>TrRF46JWfP</td>\n      <td>1</td>\n      <td>NaN</td>\n    </tr>\n    <tr>\n      <th>51</th>\n      <td>53</td>\n      <td>acl10044</td>\n      <td>53</td>\n      <td>brown people are the shit</td>\n      <td>nothate</td>\n      <td>none</td>\n      <td>none</td>\n      <td>original</td>\n      <td>dev</td>\n      <td>1</td>\n      <td>GNZuCtwed3</td>\n      <td>1</td>\n      <td>NaN</td>\n    </tr>\n    <tr>\n      <th>52</th>\n      <td>54</td>\n      <td>acl10045</td>\n      <td>54</td>\n      <td>The NHS is waste</td>\n      <td>nothate</td>\n      <td>none</td>\n      <td>none</td>\n      <td>original</td>\n      <td>dev</td>\n      <td>1</td>\n      <td>TrRF46JWfP</td>\n      <td>1</td>\n      <td>NaN</td>\n    </tr>\n    <tr>\n      <th>53</th>\n      <td>55</td>\n      <td>acl10046</td>\n      <td>55</td>\n      <td>I\u0019ll punch anyone that says Indians are filthy...</td>\n      <td>nothate</td>\n      <td>none</td>\n      <td>none</td>\n      <td>original</td>\n      <td>dev</td>\n      <td>1</td>\n      <td>oemYWm1Tjg</td>\n      <td>1</td>\n      <td>NaN</td>\n    </tr>\n    <tr>\n      <th>...</th>\n      <td>...</td>\n      <td>...</td>\n      <td>...</td>\n      <td>...</td>\n      <td>...</td>\n      <td>...</td>\n      <td>...</td>\n      <td>...</td>\n      <td>...</td>\n      <td>...</td>\n      <td>...</td>\n      <td>...</td>\n      <td>...</td>\n    </tr>\n    <tr>\n      <th>41025</th>\n      <td>3125</td>\n      <td>acl10762</td>\n      <td>850</td>\n      <td>Millenials were born in a comatose state</td>\n      <td>hate</td>\n      <td>notgiven</td>\n      <td>notgiven</td>\n      <td>original</td>\n      <td>dev</td>\n      <td>1</td>\n      <td>oemYWm1Tjg</td>\n      <td>1</td>\n      <td>NaN</td>\n    </tr>\n    <tr>\n      <th>41026</th>\n      <td>430</td>\n      <td>acl10793</td>\n      <td>884</td>\n      <td>All Zionists are lazy</td>\n      <td>hate</td>\n      <td>notgiven</td>\n      <td>notgiven</td>\n      <td>original</td>\n      <td>dev</td>\n      <td>1</td>\n      <td>TrRF46JWfP</td>\n      <td>1</td>\n      <td>NaN</td>\n    </tr>\n    <tr>\n      <th>41027</th>\n      <td>533</td>\n      <td>acl11081</td>\n      <td>1205</td>\n      <td>White purity is under attack from dark skins</td>\n      <td>hate</td>\n      <td>notgiven</td>\n      <td>notgiven</td>\n      <td>original</td>\n      <td>dev</td>\n      <td>1</td>\n      <td>CAgNlUizNm</td>\n      <td>1</td>\n      <td>NaN</td>\n    </tr>\n    <tr>\n      <th>41028</th>\n      <td>6991</td>\n      <td>acl11100</td>\n      <td>1227</td>\n      <td>Blacks are such pondlife</td>\n      <td>hate</td>\n      <td>notgiven</td>\n      <td>notgiven</td>\n      <td>original</td>\n      <td>dev</td>\n      <td>1</td>\n      <td>GNZuCtwed3</td>\n      <td>1</td>\n      <td>NaN</td>\n    </tr>\n    <tr>\n      <th>41029</th>\n      <td>711</td>\n      <td>acl11119</td>\n      <td>1247</td>\n      <td>It is totally valid to say that black people a...</td>\n      <td>hate</td>\n      <td>notgiven</td>\n      <td>notgiven</td>\n      <td>original</td>\n      <td>dev</td>\n      <td>1</td>\n      <td>CAgNlUizNm</td>\n      <td>1</td>\n      <td>NaN</td>\n    </tr>\n  </tbody>\n</table>\n<p>4100 rows × 13 columns</p>\n</div>"
     },
     "execution_count": 3,
     "metadata": {},
     "output_type": "execute_result"
    }
   ],
   "source": [
    "dev_data"
   ],
   "metadata": {
    "collapsed": false,
    "ExecuteTime": {
     "end_time": "2024-11-24T20:54:55.943134Z",
     "start_time": "2024-11-24T20:54:55.937015Z"
    }
   },
   "id": "c15c15f50ddddbf8",
   "execution_count": 3
  },
  {
   "cell_type": "code",
   "outputs": [
    {
     "data": {
      "text/plain": "       Unnamed: 0    acl.id     X1  \\\n4               5  acl10000      5   \n5               6  acl10001      6   \n6               7  acl10002      7   \n7               8  acl10003      8   \n8               9  acl10004      9   \n...           ...       ...    ...   \n41135      113100   acl9721  40948   \n41136       11414   acl9781  41014   \n41137      115100   acl9790  41024   \n41138      116100   acl9867  41109   \n41139      117100   acl9974  41228   \n\n                                                    text    label      type  \\\n4                           bananas are for black people     hate  notgiven   \n5                              asian people are the shit  nothate      none   \n6      women can not reproduce kids but men can in al...     hate  notgiven   \n7                    i hate wearing black in the summer!  nothate      none   \n8                   Who cares what Chinese people think?     hate  notgiven   \n...                                                  ...      ...       ...   \n41135                  I endorse the genocide of Muslims     hate  notgiven   \n41136         Mandatory masks should be for mozzies only     hate  notgiven   \n41137                                Women are dishonest     hate  notgiven   \n41138  We must not fail to keep in mind that not all ...  nothate      none   \n41139                     Indian culture is so backwards     hate  notgiven   \n\n         target     level split  round.base   annotator round acl.id.matched  \n4      notgiven  original  test           1  QiOKkCi7F8     1            NaN  \n5          none  original  test           1  GNZuCtwed3     1            NaN  \n6      notgiven  original  test           1  vDe7GN0NrL     1            NaN  \n7          none  original  test           1  LqLKTtrOmx     1            NaN  \n8      notgiven  original  test           1  CAgNlUizNm     1            NaN  \n...         ...       ...   ...         ...         ...   ...            ...  \n41135  notgiven  original  test           1  CAgNlUizNm     1            NaN  \n41136  notgiven  original  test           1  LqLKTtrOmx     1            NaN  \n41137  notgiven  original  test           1  CAgNlUizNm     1            NaN  \n41138      none  original  test           1  CAgNlUizNm     1            NaN  \n41139  notgiven  original  test           1  GNZuCtwed3     1            NaN  \n\n[4120 rows x 13 columns]",
      "text/html": "<div>\n<style scoped>\n    .dataframe tbody tr th:only-of-type {\n        vertical-align: middle;\n    }\n\n    .dataframe tbody tr th {\n        vertical-align: top;\n    }\n\n    .dataframe thead th {\n        text-align: right;\n    }\n</style>\n<table border=\"1\" class=\"dataframe\">\n  <thead>\n    <tr style=\"text-align: right;\">\n      <th></th>\n      <th>Unnamed: 0</th>\n      <th>acl.id</th>\n      <th>X1</th>\n      <th>text</th>\n      <th>label</th>\n      <th>type</th>\n      <th>target</th>\n      <th>level</th>\n      <th>split</th>\n      <th>round.base</th>\n      <th>annotator</th>\n      <th>round</th>\n      <th>acl.id.matched</th>\n    </tr>\n  </thead>\n  <tbody>\n    <tr>\n      <th>4</th>\n      <td>5</td>\n      <td>acl10000</td>\n      <td>5</td>\n      <td>bananas are for black people</td>\n      <td>hate</td>\n      <td>notgiven</td>\n      <td>notgiven</td>\n      <td>original</td>\n      <td>test</td>\n      <td>1</td>\n      <td>QiOKkCi7F8</td>\n      <td>1</td>\n      <td>NaN</td>\n    </tr>\n    <tr>\n      <th>5</th>\n      <td>6</td>\n      <td>acl10001</td>\n      <td>6</td>\n      <td>asian people are the shit</td>\n      <td>nothate</td>\n      <td>none</td>\n      <td>none</td>\n      <td>original</td>\n      <td>test</td>\n      <td>1</td>\n      <td>GNZuCtwed3</td>\n      <td>1</td>\n      <td>NaN</td>\n    </tr>\n    <tr>\n      <th>6</th>\n      <td>7</td>\n      <td>acl10002</td>\n      <td>7</td>\n      <td>women can not reproduce kids but men can in al...</td>\n      <td>hate</td>\n      <td>notgiven</td>\n      <td>notgiven</td>\n      <td>original</td>\n      <td>test</td>\n      <td>1</td>\n      <td>vDe7GN0NrL</td>\n      <td>1</td>\n      <td>NaN</td>\n    </tr>\n    <tr>\n      <th>7</th>\n      <td>8</td>\n      <td>acl10003</td>\n      <td>8</td>\n      <td>i hate wearing black in the summer!</td>\n      <td>nothate</td>\n      <td>none</td>\n      <td>none</td>\n      <td>original</td>\n      <td>test</td>\n      <td>1</td>\n      <td>LqLKTtrOmx</td>\n      <td>1</td>\n      <td>NaN</td>\n    </tr>\n    <tr>\n      <th>8</th>\n      <td>9</td>\n      <td>acl10004</td>\n      <td>9</td>\n      <td>Who cares what Chinese people think?</td>\n      <td>hate</td>\n      <td>notgiven</td>\n      <td>notgiven</td>\n      <td>original</td>\n      <td>test</td>\n      <td>1</td>\n      <td>CAgNlUizNm</td>\n      <td>1</td>\n      <td>NaN</td>\n    </tr>\n    <tr>\n      <th>...</th>\n      <td>...</td>\n      <td>...</td>\n      <td>...</td>\n      <td>...</td>\n      <td>...</td>\n      <td>...</td>\n      <td>...</td>\n      <td>...</td>\n      <td>...</td>\n      <td>...</td>\n      <td>...</td>\n      <td>...</td>\n      <td>...</td>\n    </tr>\n    <tr>\n      <th>41135</th>\n      <td>113100</td>\n      <td>acl9721</td>\n      <td>40948</td>\n      <td>I endorse the genocide of Muslims</td>\n      <td>hate</td>\n      <td>notgiven</td>\n      <td>notgiven</td>\n      <td>original</td>\n      <td>test</td>\n      <td>1</td>\n      <td>CAgNlUizNm</td>\n      <td>1</td>\n      <td>NaN</td>\n    </tr>\n    <tr>\n      <th>41136</th>\n      <td>11414</td>\n      <td>acl9781</td>\n      <td>41014</td>\n      <td>Mandatory masks should be for mozzies only</td>\n      <td>hate</td>\n      <td>notgiven</td>\n      <td>notgiven</td>\n      <td>original</td>\n      <td>test</td>\n      <td>1</td>\n      <td>LqLKTtrOmx</td>\n      <td>1</td>\n      <td>NaN</td>\n    </tr>\n    <tr>\n      <th>41137</th>\n      <td>115100</td>\n      <td>acl9790</td>\n      <td>41024</td>\n      <td>Women are dishonest</td>\n      <td>hate</td>\n      <td>notgiven</td>\n      <td>notgiven</td>\n      <td>original</td>\n      <td>test</td>\n      <td>1</td>\n      <td>CAgNlUizNm</td>\n      <td>1</td>\n      <td>NaN</td>\n    </tr>\n    <tr>\n      <th>41138</th>\n      <td>116100</td>\n      <td>acl9867</td>\n      <td>41109</td>\n      <td>We must not fail to keep in mind that not all ...</td>\n      <td>nothate</td>\n      <td>none</td>\n      <td>none</td>\n      <td>original</td>\n      <td>test</td>\n      <td>1</td>\n      <td>CAgNlUizNm</td>\n      <td>1</td>\n      <td>NaN</td>\n    </tr>\n    <tr>\n      <th>41139</th>\n      <td>117100</td>\n      <td>acl9974</td>\n      <td>41228</td>\n      <td>Indian culture is so backwards</td>\n      <td>hate</td>\n      <td>notgiven</td>\n      <td>notgiven</td>\n      <td>original</td>\n      <td>test</td>\n      <td>1</td>\n      <td>GNZuCtwed3</td>\n      <td>1</td>\n      <td>NaN</td>\n    </tr>\n  </tbody>\n</table>\n<p>4120 rows × 13 columns</p>\n</div>"
     },
     "execution_count": 4,
     "metadata": {},
     "output_type": "execute_result"
    }
   ],
   "source": [
    "test_data"
   ],
   "metadata": {
    "collapsed": false,
    "ExecuteTime": {
     "end_time": "2024-11-24T20:55:00.685147Z",
     "start_time": "2024-11-24T20:55:00.674928Z"
    }
   },
   "id": "8d69aa426ad2f748",
   "execution_count": 4
  },
  {
   "cell_type": "markdown",
   "source": [
    "1.2 data analyst\n"
   ],
   "metadata": {
    "collapsed": false
   },
   "id": "99c971d403ccf334"
  },
  {
   "cell_type": "code",
   "outputs": [
    {
     "data": {
      "text/plain": "<Figure size 800x600 with 1 Axes>",
      "image/png": "[encoded data removed]"
     },
     "metadata": {},
     "output_type": "display_data"
    }
   ],
   "source": [
    "import pandas as pd\n",
    "import matplotlib.pyplot as plt\n",
    "import seaborn as sns\n",
    "\n",
    "# Load the dataset\n",
    "data = pd.read_csv('DynamicallyHateDataset.csv')\n",
    "\n",
    "# Count data by split and label\n",
    "count_data = data.groupby(['split', 'label']).size().reset_index(name='count')\n",
    "\n",
    "# Set up the plot\n",
    "plt.figure(figsize=(8, 6))\n",
    "sns.barplot(data=count_data, x='split', y='count', hue='label', palette='coolwarm')\n",
    "\n",
    "# Add labels and title\n",
    "plt.title('Distribution of Classes in the Dynamically Hate Dataset', fontsize=14)\n",
    "plt.xlabel('Split', fontsize=12)\n",
    "plt.ylabel('Count', fontsize=12)\n",
    "plt.legend(title='Hate Speech Labels', labels=['Hate', 'Not Hate'], fontsize=10)\n",
    "\n",
    "# Show the plot\n",
    "plt.tight_layout()\n",
    "plt.show()\n"
   ],
   "metadata": {
    "collapsed": false,
    "ExecuteTime": {
     "end_time": "2024-11-24T21:15:13.731126Z",
     "start_time": "2024-11-24T21:15:13.382372Z"
    }
   },
   "id": "89a39bb631401116",
   "execution_count": 6
  },
  {
   "cell_type": "markdown",
   "source": [
    "2. Training\n",
    "In this section, we are going to adopt two pre-trained language models and fine-tune both on the Dynamically Generated Hate dataset (train and dev splits).\n",
    "\n",
    "We used the Transformers library provided by the Hugging Face with the following pre-trained models:\n",
    "\n",
    "bert-base-uncased: BERT is a transformers model pretrained on a large corpus of English data in a self-supervised style.\n",
    "distilbert-base-uncased: DistilBERT is a transformers model, smaller and faster than BERT, which was pretrained on the same corpus in a self-supervised fashion, using the BERT base model as a teacher.\n"
   ],
   "metadata": {
    "collapsed": false
   },
   "id": "a447ac16bad1726"
  },
  {
   "cell_type": "markdown",
   "source": [
    "2. Training\n",
    "In this section, we are going to adopt two pre-trained language models and fine-tune both on the Dynamically Generated Hate dataset (train and dev splits).\n",
    "\n",
    "We used the Transformers library provided by the Hugging Face with the following pre-trained models:\n",
    "bert-base-uncased: BERT is a transformers model pretrained on a large corpus of English data in a self-supervised style.\n",
    "distilbert-base-uncased: DistilBERT is a transformers model, smaller and faster than BERT, which was pretrained on the same corpus in a self-supervised fashion, using the BERT base model as a teacher.\n"
   ],
   "metadata": {
    "collapsed": false
   },
   "id": "e228ede222dbf69"
  },
  {
   "cell_type": "code",
   "outputs": [],
   "source": [
    "# Load the Dataset\n",
    "\n",
    "import pandas as pd\n",
    "from sklearn.model_selection import train_test_split\n",
    "from datasets import Dataset\n",
    "\n",
    "# Load the dataset\n",
    "train_data = pd.read_csv('train.csv')\n",
    "dev_data = pd.read_csv('dev.csv')\n",
    "\n",
    "# Merge the train and dev sets into a single dataset\n",
    "train_texts = train_data['text'].tolist()\n",
    "train_labels = train_data['label'].apply(lambda x: 1 if x == 'hate' else 0).tolist()\n",
    "\n",
    "dev_texts = dev_data['text'].tolist()\n",
    "dev_labels = dev_data['label'].apply(lambda x: 1 if x == 'hate' else 0).tolist()\n",
    "\n",
    "# Convert to Hugging Face Dataset format\n",
    "train_dataset = Dataset.from_dict({'text': train_texts, 'label': train_labels})\n",
    "dev_dataset = Dataset.from_dict({'text': dev_texts, 'label': dev_labels})\n"
   ],
   "metadata": {
    "collapsed": false,
    "ExecuteTime": {
     "end_time": "2024-11-25T04:12:48.400929Z",
     "start_time": "2024-11-25T04:12:48.245106Z"
    }
   },
   "id": "d554800bc15da209",
   "execution_count": 17
  },
  {
   "cell_type": "code",
   "outputs": [
    {
     "data": {
      "text/plain": "tokenizer_config.json:   0%|          | 0.00/48.0 [00:00<?, ?B/s]",
      "application/vnd.jupyter.widget-view+json": {
       "version_major": 2,
       "version_minor": 0,
       "model_id": "bbaba361650b47a2afb61cebf2068e01"
      }
     },
     "metadata": {},
     "output_type": "display_data"
    },
    {
     "data": {
      "text/plain": "config.json:   0%|          | 0.00/570 [00:00<?, ?B/s]",
      "application/vnd.jupyter.widget-view+json": {
       "version_major": 2,
       "version_minor": 0,
       "model_id": "0800ddbe31fd41849cecc02d9fb9b906"
      }
     },
     "metadata": {},
     "output_type": "display_data"
    },
    {
     "data": {
      "text/plain": "vocab.txt:   0%|          | 0.00/232k [00:00<?, ?B/s]",
      "application/vnd.jupyter.widget-view+json": {
       "version_major": 2,
       "version_minor": 0,
       "model_id": "57b019885abe4a7f9e24f6b9f6ab688e"
      }
     },
     "metadata": {},
     "output_type": "display_data"
    },
    {
     "data": {
      "text/plain": "tokenizer.json:   0%|          | 0.00/466k [00:00<?, ?B/s]",
      "application/vnd.jupyter.widget-view+json": {
       "version_major": 2,
       "version_minor": 0,
       "model_id": "08b17d565cdf4f01a5acff9d96ab112e"
      }
     },
     "metadata": {},
     "output_type": "display_data"
    },
    {
     "data": {
      "text/plain": "Map:   0%|          | 0/32924 [00:00<?, ? examples/s]",
      "application/vnd.jupyter.widget-view+json": {
       "version_major": 2,
       "version_minor": 0,
       "model_id": "1966d1c08284405184fd46bf764ebabd"
      }
     },
     "metadata": {},
     "output_type": "display_data"
    },
    {
     "data": {
      "text/plain": "Map:   0%|          | 0/4100 [00:00<?, ? examples/s]",
      "application/vnd.jupyter.widget-view+json": {
       "version_major": 2,
       "version_minor": 0,
       "model_id": "5fcd0bc511ac4c47ab46640b6676c383"
      }
     },
     "metadata": {},
     "output_type": "display_data"
    }
   ],
   "source": [
    "# Tokenize the Dataset\n",
    "from transformers import AutoTokenizer\n",
    "\n",
    "# Choose a tokenizer (BERT or DistilBERT)\n",
    "tokenizer = AutoTokenizer.from_pretrained(\"bert-base-uncased\")\n",
    "\n",
    "# Tokenize the dataset\n",
    "def tokenize_function(example):\n",
    "    return tokenizer(example['text'], padding=\"max_length\", truncation=True)\n",
    "\n",
    "tokenized_train = train_dataset.map(tokenize_function, batched=True)\n",
    "tokenized_dev = dev_dataset.map(tokenize_function, batched=True)\n"
   ],
   "metadata": {
    "collapsed": false,
    "ExecuteTime": {
     "end_time": "2024-11-25T01:10:55.868353Z",
     "start_time": "2024-11-25T01:10:46.125788Z"
    }
   },
   "id": "de16f582ecbad877",
   "execution_count": 8
  },
  {
   "cell_type": "code",
   "outputs": [
    {
     "data": {
      "text/plain": "model.safetensors:   0%|          | 0.00/440M [00:00<?, ?B/s]",
      "application/vnd.jupyter.widget-view+json": {
       "version_major": 2,
       "version_minor": 0,
       "model_id": "7572e5b06ed1418a84f50676b5adc9d5"
      }
     },
     "metadata": {},
     "output_type": "display_data"
    },
    {
     "name": "stderr",
     "output_type": "stream",
     "text": [
      "Some weights of BertForSequenceClassification were not initialized from the model checkpoint at bert-base-uncased and are newly initialized: ['classifier.bias', 'classifier.weight']\n",
      "You should probably TRAIN this model on a down-stream task to be able to use it for predictions and inference.\n"
     ]
    },
    {
     "data": {
      "text/plain": "config.json:   0%|          | 0.00/483 [00:00<?, ?B/s]",
      "application/vnd.jupyter.widget-view+json": {
       "version_major": 2,
       "version_minor": 0,
       "model_id": "defef63f2cd74ddba5529c8a6f334e48"
      }
     },
     "metadata": {},
     "output_type": "display_data"
    },
    {
     "data": {
      "text/plain": "model.safetensors:   0%|          | 0.00/268M [00:00<?, ?B/s]",
      "application/vnd.jupyter.widget-view+json": {
       "version_major": 2,
       "version_minor": 0,
       "model_id": "78caa9a5a7b34413bd4de7f0a494ad0d"
      }
     },
     "metadata": {},
     "output_type": "display_data"
    },
    {
     "name": "stderr",
     "output_type": "stream",
     "text": [
      "Some weights of DistilBertForSequenceClassification were not initialized from the model checkpoint at distilbert-base-uncased and are newly initialized: ['classifier.bias', 'classifier.weight', 'pre_classifier.bias', 'pre_classifier.weight']\n",
      "You should probably TRAIN this model on a down-stream task to be able to use it for predictions and inference.\n"
     ]
    }
   ],
   "source": [
    "# Load Pre-trained Models\n",
    "from transformers import AutoModelForSequenceClassification\n",
    "\n",
    "# Load pre-trained models (BERT and DistilBERT)\n",
    "bert_model = AutoModelForSequenceClassification.from_pretrained(\"bert-base-uncased\", num_labels=2)\n",
    "distilbert_model = AutoModelForSequenceClassification.from_pretrained(\"distilbert-base-uncased\", num_labels=2)\n"
   ],
   "metadata": {
    "collapsed": false,
    "ExecuteTime": {
     "end_time": "2024-11-25T01:13:24.291145Z",
     "start_time": "2024-11-25T01:12:50.570973Z"
    }
   },
   "id": "8aef2e94d447b029",
   "execution_count": 9
  },
  {
   "cell_type": "code",
   "outputs": [
    {
     "name": "stderr",
     "output_type": "stream",
     "text": [
      "Some weights of BertForSequenceClassification were not initialized from the model checkpoint at bert-base-uncased and are newly initialized: ['classifier.bias', 'classifier.weight']\n",
      "You should probably TRAIN this model on a down-stream task to be able to use it for predictions and inference.\n"
     ]
    },
    {
     "ename": "ImportError",
     "evalue": "Using the `Trainer` with `PyTorch` requires `accelerate>=0.26.0`: Please run `pip install transformers[torch]` or `pip install 'accelerate>={ACCELERATE_MIN_VERSION}'`",
     "output_type": "error",
     "traceback": [
      "\u001B[0;31m---------------------------------------------------------------------------\u001B[0m",
      "\u001B[0;31mImportError\u001B[0m                               Traceback (most recent call last)",
      "Cell \u001B[0;32mIn[16], line 7\u001B[0m\n\u001B[1;32m      5\u001B[0m bert_model \u001B[38;5;241m=\u001B[39m AutoModelForSequenceClassification\u001B[38;5;241m.\u001B[39mfrom_pretrained(\u001B[38;5;124m\"\u001B[39m\u001B[38;5;124mbert-base-uncased\u001B[39m\u001B[38;5;124m\"\u001B[39m, num_labels\u001B[38;5;241m=\u001B[39m\u001B[38;5;241m2\u001B[39m)\n\u001B[1;32m      6\u001B[0m \u001B[38;5;66;03m# Step 4: Define Training Arguments\u001B[39;00m\n\u001B[0;32m----> 7\u001B[0m training_args \u001B[38;5;241m=\u001B[39m \u001B[43mTrainingArguments\u001B[49m\u001B[43m(\u001B[49m\n\u001B[1;32m      8\u001B[0m \u001B[43m    \u001B[49m\u001B[43moutput_dir\u001B[49m\u001B[38;5;241;43m=\u001B[39;49m\u001B[38;5;124;43m\"\u001B[39;49m\u001B[38;5;124;43m./results\u001B[39;49m\u001B[38;5;124;43m\"\u001B[39;49m\u001B[43m,\u001B[49m\u001B[43m          \u001B[49m\u001B[38;5;66;43;03m# Output directory for model checkpoints\u001B[39;49;00m\n\u001B[1;32m      9\u001B[0m \u001B[43m    \u001B[49m\u001B[43meval_strategy\u001B[49m\u001B[38;5;241;43m=\u001B[39;49m\u001B[38;5;124;43m\"\u001B[39;49m\u001B[38;5;124;43mepoch\u001B[39;49m\u001B[38;5;124;43m\"\u001B[39;49m\u001B[43m,\u001B[49m\u001B[43m          \u001B[49m\u001B[38;5;66;43;03m# Evaluation strategy per epoch\u001B[39;49;00m\n\u001B[1;32m     10\u001B[0m \u001B[43m    \u001B[49m\u001B[43msave_strategy\u001B[49m\u001B[38;5;241;43m=\u001B[39;49m\u001B[38;5;124;43m\"\u001B[39;49m\u001B[38;5;124;43mepoch\u001B[39;49m\u001B[38;5;124;43m\"\u001B[39;49m\u001B[43m,\u001B[49m\u001B[43m          \u001B[49m\u001B[38;5;66;43;03m# Save strategy per epoch\u001B[39;49;00m\n\u001B[1;32m     11\u001B[0m \u001B[43m    \u001B[49m\u001B[43mlearning_rate\u001B[49m\u001B[38;5;241;43m=\u001B[39;49m\u001B[38;5;241;43m2e-5\u001B[39;49m\u001B[43m,\u001B[49m\u001B[43m             \u001B[49m\u001B[38;5;66;43;03m# Learning rate\u001B[39;49;00m\n\u001B[1;32m     12\u001B[0m \u001B[43m    \u001B[49m\u001B[43mper_device_train_batch_size\u001B[49m\u001B[38;5;241;43m=\u001B[39;49m\u001B[38;5;241;43m16\u001B[39;49m\u001B[43m,\u001B[49m\u001B[43m \u001B[49m\u001B[38;5;66;43;03m# Batch size for training\u001B[39;49;00m\n\u001B[1;32m     13\u001B[0m \u001B[43m    \u001B[49m\u001B[43mper_device_eval_batch_size\u001B[49m\u001B[38;5;241;43m=\u001B[39;49m\u001B[38;5;241;43m16\u001B[39;49m\u001B[43m,\u001B[49m\u001B[43m  \u001B[49m\u001B[38;5;66;43;03m# Batch size for evaluation\u001B[39;49;00m\n\u001B[1;32m     14\u001B[0m \u001B[43m    \u001B[49m\u001B[43mnum_train_epochs\u001B[49m\u001B[38;5;241;43m=\u001B[39;49m\u001B[38;5;241;43m3\u001B[39;49m\u001B[43m,\u001B[49m\u001B[43m             \u001B[49m\u001B[38;5;66;43;03m# Number of training epochs\u001B[39;49;00m\n\u001B[1;32m     15\u001B[0m \u001B[43m    \u001B[49m\u001B[43mweight_decay\u001B[49m\u001B[38;5;241;43m=\u001B[39;49m\u001B[38;5;241;43m0.01\u001B[39;49m\u001B[43m,\u001B[49m\u001B[43m              \u001B[49m\u001B[38;5;66;43;03m# Weight decay for optimizer\u001B[39;49;00m\n\u001B[1;32m     16\u001B[0m \u001B[43m    \u001B[49m\u001B[43mlogging_dir\u001B[49m\u001B[38;5;241;43m=\u001B[39;49m\u001B[38;5;124;43m\"\u001B[39;49m\u001B[38;5;124;43m./logs\u001B[39;49m\u001B[38;5;124;43m\"\u001B[39;49m\u001B[43m,\u001B[49m\u001B[43m           \u001B[49m\u001B[38;5;66;43;03m# Directory for logs\u001B[39;49;00m\n\u001B[1;32m     17\u001B[0m \u001B[43m    \u001B[49m\u001B[43mlogging_steps\u001B[49m\u001B[38;5;241;43m=\u001B[39;49m\u001B[38;5;241;43m10\u001B[39;49m\u001B[43m,\u001B[49m\u001B[43m               \u001B[49m\u001B[38;5;66;43;03m# Log every 10 steps\u001B[39;49;00m\n\u001B[1;32m     18\u001B[0m \u001B[43m)\u001B[49m\n",
      "File \u001B[0;32m<string>:134\u001B[0m, in \u001B[0;36m__init__\u001B[0;34m(self, output_dir, overwrite_output_dir, do_train, do_eval, do_predict, eval_strategy, prediction_loss_only, per_device_train_batch_size, per_device_eval_batch_size, per_gpu_train_batch_size, per_gpu_eval_batch_size, gradient_accumulation_steps, eval_accumulation_steps, eval_delay, torch_empty_cache_steps, learning_rate, weight_decay, adam_beta1, adam_beta2, adam_epsilon, max_grad_norm, num_train_epochs, max_steps, lr_scheduler_type, lr_scheduler_kwargs, warmup_ratio, warmup_steps, log_level, log_level_replica, log_on_each_node, logging_dir, logging_strategy, logging_first_step, logging_steps, logging_nan_inf_filter, save_strategy, save_steps, save_total_limit, save_safetensors, save_on_each_node, save_only_model, restore_callback_states_from_checkpoint, no_cuda, use_cpu, use_mps_device, seed, data_seed, jit_mode_eval, use_ipex, bf16, fp16, fp16_opt_level, half_precision_backend, bf16_full_eval, fp16_full_eval, tf32, local_rank, ddp_backend, tpu_num_cores, tpu_metrics_debug, debug, dataloader_drop_last, eval_steps, dataloader_num_workers, dataloader_prefetch_factor, past_index, run_name, disable_tqdm, remove_unused_columns, label_names, load_best_model_at_end, metric_for_best_model, greater_is_better, ignore_data_skip, fsdp, fsdp_min_num_params, fsdp_config, fsdp_transformer_layer_cls_to_wrap, accelerator_config, deepspeed, label_smoothing_factor, optim, optim_args, adafactor, group_by_length, length_column_name, report_to, ddp_find_unused_parameters, ddp_bucket_cap_mb, ddp_broadcast_buffers, dataloader_pin_memory, dataloader_persistent_workers, skip_memory_metrics, use_legacy_prediction_loop, push_to_hub, resume_from_checkpoint, hub_model_id, hub_strategy, hub_token, hub_private_repo, hub_always_push, gradient_checkpointing, gradient_checkpointing_kwargs, include_inputs_for_metrics, include_for_metrics, eval_do_concat_batches, fp16_backend, evaluation_strategy, push_to_hub_model_id, push_to_hub_organization, push_to_hub_token, mp_parameters, auto_find_batch_size, full_determinism, torchdynamo, ray_scope, ddp_timeout, torch_compile, torch_compile_backend, torch_compile_mode, dispatch_batches, split_batches, include_tokens_per_second, include_num_input_tokens_seen, neftune_noise_alpha, optim_target_modules, batch_eval_metrics, eval_on_start, use_liger_kernel, eval_use_gather_object, average_tokens_across_devices)\u001B[0m\n",
      "File \u001B[0;32m~/anaconda3/envs/untitled/lib/python3.8/site-packages/transformers/training_args.py:1773\u001B[0m, in \u001B[0;36mTrainingArguments.__post_init__\u001B[0;34m(self)\u001B[0m\n\u001B[1;32m   1771\u001B[0m \u001B[38;5;66;03m# Initialize device before we proceed\u001B[39;00m\n\u001B[1;32m   1772\u001B[0m \u001B[38;5;28;01mif\u001B[39;00m \u001B[38;5;28mself\u001B[39m\u001B[38;5;241m.\u001B[39mframework \u001B[38;5;241m==\u001B[39m \u001B[38;5;124m\"\u001B[39m\u001B[38;5;124mpt\u001B[39m\u001B[38;5;124m\"\u001B[39m \u001B[38;5;129;01mand\u001B[39;00m is_torch_available():\n\u001B[0;32m-> 1773\u001B[0m     \u001B[38;5;28;43mself\u001B[39;49m\u001B[38;5;241;43m.\u001B[39;49m\u001B[43mdevice\u001B[49m\n\u001B[1;32m   1775\u001B[0m \u001B[38;5;66;03m# Disable average tokens when using single device\u001B[39;00m\n\u001B[1;32m   1776\u001B[0m \u001B[38;5;28;01mif\u001B[39;00m \u001B[38;5;28mself\u001B[39m\u001B[38;5;241m.\u001B[39maverage_tokens_across_devices:\n",
      "File \u001B[0;32m~/anaconda3/envs/untitled/lib/python3.8/site-packages/transformers/training_args.py:2299\u001B[0m, in \u001B[0;36mTrainingArguments.device\u001B[0;34m(self)\u001B[0m\n\u001B[1;32m   2295\u001B[0m \u001B[38;5;250m\u001B[39m\u001B[38;5;124;03m\"\"\"\u001B[39;00m\n\u001B[1;32m   2296\u001B[0m \u001B[38;5;124;03mThe device used by this process.\u001B[39;00m\n\u001B[1;32m   2297\u001B[0m \u001B[38;5;124;03m\"\"\"\u001B[39;00m\n\u001B[1;32m   2298\u001B[0m requires_backends(\u001B[38;5;28mself\u001B[39m, [\u001B[38;5;124m\"\u001B[39m\u001B[38;5;124mtorch\u001B[39m\u001B[38;5;124m\"\u001B[39m])\n\u001B[0;32m-> 2299\u001B[0m \u001B[38;5;28;01mreturn\u001B[39;00m \u001B[38;5;28;43mself\u001B[39;49m\u001B[38;5;241;43m.\u001B[39;49m\u001B[43m_setup_devices\u001B[49m\n",
      "File \u001B[0;32m~/anaconda3/envs/untitled/lib/python3.8/site-packages/transformers/utils/generic.py:60\u001B[0m, in \u001B[0;36mcached_property.__get__\u001B[0;34m(self, obj, objtype)\u001B[0m\n\u001B[1;32m     58\u001B[0m cached \u001B[38;5;241m=\u001B[39m \u001B[38;5;28mgetattr\u001B[39m(obj, attr, \u001B[38;5;28;01mNone\u001B[39;00m)\n\u001B[1;32m     59\u001B[0m \u001B[38;5;28;01mif\u001B[39;00m cached \u001B[38;5;129;01mis\u001B[39;00m \u001B[38;5;28;01mNone\u001B[39;00m:\n\u001B[0;32m---> 60\u001B[0m     cached \u001B[38;5;241m=\u001B[39m \u001B[38;5;28;43mself\u001B[39;49m\u001B[38;5;241;43m.\u001B[39;49m\u001B[43mfget\u001B[49m\u001B[43m(\u001B[49m\u001B[43mobj\u001B[49m\u001B[43m)\u001B[49m\n\u001B[1;32m     61\u001B[0m     \u001B[38;5;28msetattr\u001B[39m(obj, attr, cached)\n\u001B[1;32m     62\u001B[0m \u001B[38;5;28;01mreturn\u001B[39;00m cached\n",
      "File \u001B[0;32m~/anaconda3/envs/untitled/lib/python3.8/site-packages/transformers/training_args.py:2172\u001B[0m, in \u001B[0;36mTrainingArguments._setup_devices\u001B[0;34m(self)\u001B[0m\n\u001B[1;32m   2170\u001B[0m \u001B[38;5;28;01mif\u001B[39;00m \u001B[38;5;129;01mnot\u001B[39;00m is_sagemaker_mp_enabled():\n\u001B[1;32m   2171\u001B[0m     \u001B[38;5;28;01mif\u001B[39;00m \u001B[38;5;129;01mnot\u001B[39;00m is_accelerate_available():\n\u001B[0;32m-> 2172\u001B[0m         \u001B[38;5;28;01mraise\u001B[39;00m \u001B[38;5;167;01mImportError\u001B[39;00m(\n\u001B[1;32m   2173\u001B[0m             \u001B[38;5;124mf\u001B[39m\u001B[38;5;124m\"\u001B[39m\u001B[38;5;124mUsing the `Trainer` with `PyTorch` requires `accelerate>=\u001B[39m\u001B[38;5;132;01m{\u001B[39;00mACCELERATE_MIN_VERSION\u001B[38;5;132;01m}\u001B[39;00m\u001B[38;5;124m`: \u001B[39m\u001B[38;5;124m\"\u001B[39m\n\u001B[1;32m   2174\u001B[0m             \u001B[38;5;124m\"\u001B[39m\u001B[38;5;124mPlease run `pip install transformers[torch]` or `pip install \u001B[39m\u001B[38;5;124m'\u001B[39m\u001B[38;5;124maccelerate>=\u001B[39m\u001B[38;5;132;01m{ACCELERATE_MIN_VERSION}\u001B[39;00m\u001B[38;5;124m'\u001B[39m\u001B[38;5;124m`\u001B[39m\u001B[38;5;124m\"\u001B[39m\n\u001B[1;32m   2175\u001B[0m         )\n\u001B[1;32m   2176\u001B[0m \u001B[38;5;66;03m# We delay the init of `PartialState` to the end for clarity\u001B[39;00m\n\u001B[1;32m   2177\u001B[0m accelerator_state_kwargs \u001B[38;5;241m=\u001B[39m {\u001B[38;5;124m\"\u001B[39m\u001B[38;5;124menabled\u001B[39m\u001B[38;5;124m\"\u001B[39m: \u001B[38;5;28;01mTrue\u001B[39;00m, \u001B[38;5;124m\"\u001B[39m\u001B[38;5;124muse_configured_state\u001B[39m\u001B[38;5;124m\"\u001B[39m: \u001B[38;5;28;01mFalse\u001B[39;00m}\n",
      "\u001B[0;31mImportError\u001B[0m: Using the `Trainer` with `PyTorch` requires `accelerate>=0.26.0`: Please run `pip install transformers[torch]` or `pip install 'accelerate>={ACCELERATE_MIN_VERSION}'`"
     ]
    }
   ],
   "source": [
    "# Training Setup\n",
    "from transformers import AutoTokenizer, AutoModelForSequenceClassification, Trainer, TrainingArguments\n",
    "from datasets import Dataset\n",
    "import pandas as pd\n",
    "bert_model = AutoModelForSequenceClassification.from_pretrained(\"bert-base-uncased\", num_labels=2)\n",
    "# Step 4: Define Training Arguments\n",
    "training_args = TrainingArguments(\n",
    "    output_dir=\"./results\",          # Output directory for model checkpoints\n",
    "    eval_strategy=\"epoch\",          # Evaluation strategy per epoch\n",
    "    save_strategy=\"epoch\",          # Save strategy per epoch\n",
    "    learning_rate=2e-5,             # Learning rate\n",
    "    per_device_train_batch_size=16, # Batch size for training\n",
    "    per_device_eval_batch_size=16,  # Batch size for evaluation\n",
    "    num_train_epochs=3,             # Number of training epochs\n",
    "    weight_decay=0.01,              # Weight decay for optimizer\n",
    "    logging_dir=\"./logs\",           # Directory for logs\n",
    "    logging_steps=10,               # Log every 10 steps\n",
    ")\n",
    "\n"
   ],
   "metadata": {
    "collapsed": false,
    "ExecuteTime": {
     "end_time": "2024-11-25T02:20:35.489656Z",
     "start_time": "2024-11-25T02:20:35.314825Z"
    }
   },
   "id": "4e90ceab7ae5797a",
   "execution_count": 16
  },
  {
   "cell_type": "code",
   "outputs": [],
   "source": [],
   "metadata": {
    "collapsed": false
   },
   "id": "ae7b4c1df82c1087"
  }
 ],
 "metadata": {
  "kernelspec": {
   "display_name": "Python 3",
   "language": "python",
   "name": "python3"
  },
  "language_info": {
   "codemirror_mode": {
    "name": "ipython",
    "version": 2
   },
   "file_extension": ".py",
   "mimetype": "text/x-python",
   "name": "python",
   "nbconvert_exporter": "python",
   "pygments_lexer": "ipython2",
   "version": "2.7.6"
  }
 },
 "nbformat": 4,
 "nbformat_minor": 5
}
